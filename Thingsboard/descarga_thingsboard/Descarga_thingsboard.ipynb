{
 "cells": [
  {
   "cell_type": "markdown",
   "metadata": {},
   "source": [
    "Para poder ejecutar esta libreta se debe tener git instalado y la libreria iertools.\n",
    "\n",
    "Para instalar git basta descargar el instalable de [esta página](https://git-scm.com/).\n",
    "\n",
    "Puede instalar la librería en Jupyter notebook usando este orden una vez:\n",
    "```\n",
    "pip install git+https://github.com/AltamarMx/iertools.git\n",
    "\n",
    "```"
   ]
  },
  {
   "cell_type": "code",
   "execution_count": null,
   "metadata": {},
   "outputs": [],
   "source": [
    "from iertools.tb import *\n",
    "import matplotlib.pyplot as plt\n",
    "import datetime\n",
    "import pandas as pd\n"
   ]
  },
  {
   "cell_type": "markdown",
   "metadata": {},
   "source": [
    "Descarga el archivo xlsx del formulario y guardalo con el nombre de \"Formulario.xlsx\" en la carpeta data"
   ]
  },
  {
   "cell_type": "code",
   "execution_count": null,
   "metadata": {},
   "outputs": [],
   "source": [
    "f = '../data/Formulario.xlsx'\n",
    "form = pd.read_excel(f)\n",
    "form.set_index('Nombre del dispositivo',inplace=True)\n"
   ]
  },
  {
   "cell_type": "code",
   "execution_count": null,
   "metadata": {},
   "outputs": [],
   "source": [
    "form.loc['Nombre_del_dispositivo']  //Coloca el nombre del dispositivo que asignaste en el config.ini"
   ]
  },
  {
   "cell_type": "code",
   "execution_count": null,
   "metadata": {},
   "outputs": [],
   "source": [
    "tmp= TB(config_file='config.ini',device_name='Nombre_del_dispositivo') //Coloca el nombre del dispositivo que asignaste en el config.ini\n",
    "encuesta = [\n",
    "    \"Temperatura\",\n",
    "    \"Clo\",\n",
    "    \"Met\",\n",
    "    \"Ubicacion\",\n",
    "    \"Sensacion\",\n",
    "    \"Aceptacion\",\n",
    "    \"BPMs\"\n",
    "]\n",
    "\n",
    "fecha1 = parse(\"2024-01-01\")  //Elige a partir de que fecha se hará la descarga de los datos\n",
    "fecha2 =datetime.datetime.now()\n",
    "\n",
    "Dispositivo = pd.concat([tmp.get_df(key=sensor,start_datetime=fecha1,end_datetime=fecha2) for sensor in encuesta],axis=1)\n"
   ]
  },
  {
   "cell_type": "code",
   "execution_count": null,
   "metadata": {},
   "outputs": [],
   "source": [
    "# Definir diccionarios\n",
    "diccionario_met = {\n",
    "    0: \"Tomando clase sentado\",\n",
    "    1: \"Tomando clase de pie\",\n",
    "    2: \"Dando clase sentado\",\n",
    "    3: \"Dando clase de pie\",\n",
    "    4: \"Caminando\",\n",
    "    5: \"Comiendo\",\n",
    "    6: \"Escribiendo\",\n",
    "    7: \"Trabajando en computadora\",\n",
    "    8: \"De pie en un laboratorio\"\n",
    "}\n",
    "\n",
    "diccionario_aceptacion = {\n",
    "    0: \"No\",\n",
    "    1: \"Sí\"\n",
    "}\n",
    "\n",
    "diccionario_ubicacion = {\n",
    "    0: \"Aula 1\",\n",
    "    1: \"Aula 2\",\n",
    "    2: \"Aula 3\",\n",
    "    3: \"Aula 4\",\n",
    "    4: \"Aula 5\",\n",
    "    5: \"Aula 6\",\n",
    "    6: \"Aula 7\",\n",
    "    7: \"Aula 8\",\n",
    "    8: \"Aula 9\",\n",
    "    9: \"Aula 10\"\n",
    "}\n"
   ]
  },
  {
   "cell_type": "code",
   "execution_count": null,
   "metadata": {},
   "outputs": [],
   "source": [
    "Dispositivo['Met'] = Dispositivo['Met'].map(diccionario_met)\n",
    "Dispositivo['Ubicacion'] = Dispositivo['Ubicacion'].map(diccionario_ubicacion)\n",
    "Dispositivo['Aceptacion'] = Dispositivo['Aceptacion'].map(diccionario_aceptacion)"
   ]
  },
  {
   "cell_type": "code",
   "execution_count": null,
   "metadata": {},
   "outputs": [],
   "source": [
    "Dispositivo"
   ]
  }
 ],
 "metadata": {
  "kernelspec": {
   "display_name": "Python 3 (ipykernel)",
   "language": "python",
   "name": "python3"
  },
  "language_info": {
   "codemirror_mode": {
    "name": "ipython",
    "version": 3
   },
   "file_extension": ".py",
   "mimetype": "text/x-python",
   "name": "python",
   "nbconvert_exporter": "python",
   "pygments_lexer": "ipython3",
   "version": "3.11.2"
  }
 },
 "nbformat": 4,
 "nbformat_minor": 4
}
