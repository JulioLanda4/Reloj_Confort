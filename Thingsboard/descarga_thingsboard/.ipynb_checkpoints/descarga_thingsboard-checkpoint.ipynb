{
 "cells": [
  {
   "cell_type": "code",
   "execution_count": 1,
   "id": "1b921b68",
   "metadata": {},
   "outputs": [],
   "source": [
    "from iertools.tb import *\n",
    "import matplotlib.pyplot as plt"
   ]
  },
  {
   "cell_type": "code",
   "execution_count": 3,
   "id": "22c0bb1d",
   "metadata": {},
   "outputs": [
    {
     "name": "stdout",
     "output_type": "stream",
     "text": [
      "[\"Temperatura\",\"Humedad\",\"Presion\"]\n"
     ]
    }
   ],
   "source": [
    "fecha1 = parse(\"2024-02-01\") \n",
    "fecha2 = fecha1 + pd.Timedelta(\"10D\")\n",
    "\n",
    "tmp= TB(config_file='config_gbv.ini',device_name='estacion')\n"
   ]
  },
  {
   "cell_type": "code",
   "execution_count": null,
   "id": "54f1b473",
   "metadata": {},
   "outputs": [],
   "source": []
  },
  {
   "cell_type": "code",
   "execution_count": 4,
   "id": "34e6a091",
   "metadata": {},
   "outputs": [
    {
     "name": "stderr",
     "output_type": "stream",
     "text": [
      "/Library/Frameworks/Python.framework/Versions/3.11/lib/python3.11/site-packages/iertools/tb.py:120: FutureWarning: Passing literal json to 'read_json' is deprecated and will be removed in a future version. To read from a literal string, wrap it in a 'StringIO' object.\n",
      "  datos = pd.read_json(telemetry.text, orient=None)\n"
     ]
    }
   ],
   "source": [
    "sensores = [\"Temperatura\"]\n",
    "cafe = pd.concat([tmp.get_df(key=sensor,start_datetime=fecha1,end_datetime=fecha2).resample('1min').mean() for sensor in sensores],axis=1)\n"
   ]
  },
  {
   "cell_type": "code",
   "execution_count": 5,
   "id": "aea4e004",
   "metadata": {},
   "outputs": [
    {
     "data": {
      "text/html": [
       "<div>\n",
       "<style scoped>\n",
       "    .dataframe tbody tr th:only-of-type {\n",
       "        vertical-align: middle;\n",
       "    }\n",
       "\n",
       "    .dataframe tbody tr th {\n",
       "        vertical-align: top;\n",
       "    }\n",
       "\n",
       "    .dataframe thead th {\n",
       "        text-align: right;\n",
       "    }\n",
       "</style>\n",
       "<table border=\"1\" class=\"dataframe\">\n",
       "  <thead>\n",
       "    <tr style=\"text-align: right;\">\n",
       "      <th></th>\n",
       "      <th>Temperatura</th>\n",
       "    </tr>\n",
       "    <tr>\n",
       "      <th>ts</th>\n",
       "      <th></th>\n",
       "    </tr>\n",
       "  </thead>\n",
       "  <tbody>\n",
       "    <tr>\n",
       "      <th>2024-01-31 18:00:00</th>\n",
       "      <td>27.209045</td>\n",
       "    </tr>\n",
       "    <tr>\n",
       "      <th>2024-01-31 18:01:00</th>\n",
       "      <td>27.208415</td>\n",
       "    </tr>\n",
       "    <tr>\n",
       "      <th>2024-01-31 18:02:00</th>\n",
       "      <td>27.182715</td>\n",
       "    </tr>\n",
       "    <tr>\n",
       "      <th>2024-01-31 18:03:00</th>\n",
       "      <td>27.167040</td>\n",
       "    </tr>\n",
       "    <tr>\n",
       "      <th>2024-01-31 18:04:00</th>\n",
       "      <td>27.174565</td>\n",
       "    </tr>\n",
       "    <tr>\n",
       "      <th>...</th>\n",
       "      <td>...</td>\n",
       "    </tr>\n",
       "    <tr>\n",
       "      <th>2024-02-10 17:55:00</th>\n",
       "      <td>28.303500</td>\n",
       "    </tr>\n",
       "    <tr>\n",
       "      <th>2024-02-10 17:56:00</th>\n",
       "      <td>28.291905</td>\n",
       "    </tr>\n",
       "    <tr>\n",
       "      <th>2024-02-10 17:57:00</th>\n",
       "      <td>28.281875</td>\n",
       "    </tr>\n",
       "    <tr>\n",
       "      <th>2024-02-10 17:58:00</th>\n",
       "      <td>28.291585</td>\n",
       "    </tr>\n",
       "    <tr>\n",
       "      <th>2024-02-10 17:59:00</th>\n",
       "      <td>28.274350</td>\n",
       "    </tr>\n",
       "  </tbody>\n",
       "</table>\n",
       "<p>14400 rows × 1 columns</p>\n",
       "</div>"
      ],
      "text/plain": [
       "                     Temperatura\n",
       "ts                              \n",
       "2024-01-31 18:00:00    27.209045\n",
       "2024-01-31 18:01:00    27.208415\n",
       "2024-01-31 18:02:00    27.182715\n",
       "2024-01-31 18:03:00    27.167040\n",
       "2024-01-31 18:04:00    27.174565\n",
       "...                          ...\n",
       "2024-02-10 17:55:00    28.303500\n",
       "2024-02-10 17:56:00    28.291905\n",
       "2024-02-10 17:57:00    28.281875\n",
       "2024-02-10 17:58:00    28.291585\n",
       "2024-02-10 17:59:00    28.274350\n",
       "\n",
       "[14400 rows x 1 columns]"
      ]
     },
     "execution_count": 5,
     "metadata": {},
     "output_type": "execute_result"
    }
   ],
   "source": [
    "cafe"
   ]
  },
  {
   "cell_type": "code",
   "execution_count": null,
   "id": "8f664bd7",
   "metadata": {},
   "outputs": [],
   "source": []
  }
 ],
 "metadata": {
  "kernelspec": {
   "display_name": "Python 3 (ipykernel)",
   "language": "python",
   "name": "python3"
  },
  "language_info": {
   "codemirror_mode": {
    "name": "ipython",
    "version": 3
   },
   "file_extension": ".py",
   "mimetype": "text/x-python",
   "name": "python",
   "nbconvert_exporter": "python",
   "pygments_lexer": "ipython3",
   "version": "3.11.2"
  }
 },
 "nbformat": 4,
 "nbformat_minor": 5
}
