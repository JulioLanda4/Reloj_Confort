{
 "cells": [
  {
   "cell_type": "markdown",
   "metadata": {},
   "source": [
    "# Libreta para la descarga de datos del dispositivo \n",
    "\n",
    "## Español\n",
    "\n",
    "Para poder ejecutar esta libreta se debe tener git instalado y la libreria **iertools**.\n",
    "\n",
    "Para instalar git basta descargar el instalable de [esta página](https://git-scm.com/).\n",
    "\n",
    "Puede instalar la librería en Jupyter notebook usando esta orden una vez:\n",
    "\n",
    "```\n",
    "pip install git+https://github.com/AltamarMx/iertools.git\n",
    "\n",
    "```\n",
    "Es necesario descargar el archivo xlsx del formulario y guardarlo con el nombre **Formulario.xlsx** en la carpeta **data**.\n",
    "\n",
    "Para hacer referencia al dispositivo en Thingsboard, en el archivo **config.ini** deberás incluir los siguientes datos: \n",
    "\n",
    "    Dispositivo  -->    Nombre para referirte al dispositivo\n",
    "    token        -->    Token del dispositivo\n",
    "    device_id    -->    ID del dispositivo\n",
    "    tenant       -->    Cuenta de thigsboard\n",
    "    password     -->    Clave de la cuenta\n",
    "    host         -->    Servidor de thingsboard\n",
    "    port         -->    Puerto\n",
    "\n",
    "\n",
    "---\n",
    "\n",
    "# Notebook for downloading data from the device\n",
    "\n",
    "## English\n",
    "\n",
    "In order to run this notebook you must have git installed and the **iertools** library.\n",
    "\n",
    "To install git just download the installer from [this page](https://git-scm.com/).\n",
    "\n",
    "You can install the library on Jupyter notebook using this command once:\n",
    "\n",
    "```\n",
    "pip install git+https://github.com/AltamarMx/iertools.git\n",
    "\n",
    "```\n",
    "\n",
    "You need to download the xlsx file of the form and save it with the name **Formulario.xlsx** in the **data** folder.\n",
    "\n",
    "To reference the device in Thingsboard, the following data must be included in the **config.ini** file:\n",
    "\n",
    "    Device       -->    Name to refer to the device\n",
    "    token        -->    Device Token\n",
    "    device_id    -->    Device ID\n",
    "    tenant       -->    Thingsboard account\n",
    "    password     -->    Account password\n",
    "    host         -->    Thingsboard server\n",
    "    port         -->    Port"
   ]
  },
  {
   "cell_type": "markdown",
   "metadata": {},
   "source": [
    "--------------------------------------------------------------------------------"
   ]
  },
  {
   "cell_type": "code",
   "execution_count": null,
   "metadata": {},
   "outputs": [],
   "source": [
    "from iertools.tb import *\n",
    "import matplotlib.pyplot as plt\n",
    "import datetime\n",
    "import pandas as pd"
   ]
  },
  {
   "cell_type": "markdown",
   "metadata": {},
   "source": [
    "-----------------------------------------------------------------------------\n",
    "En la siguiente celda llena los datos requeridos. / In the following cell fill the required data."
   ]
  },
  {
   "cell_type": "code",
   "execution_count": null,
   "metadata": {},
   "outputs": [],
   "source": [
    "formulario = '../data/Formulario.xlsx'             # ruta de ubicación del formulario / form path\n",
    "nombre_dispositivo = 'Nombre del dispositivo'      # Nombre del dispositivo en config.ini para descargar datos de Thingsboard / Device name in config.ini for downloading data from Thingsboard\n",
    "\n",
    "# Rango de fechas para la descarga de datos / Date range for data download\n",
    "fecha1 = parse(\"2024-01-01\")  \n",
    "fecha2 = datetime.datetime.now()"
   ]
  },
  {
   "cell_type": "markdown",
   "metadata": {},
   "source": [
    "-------------------------------------------------------------------------"
   ]
  },
  {
   "cell_type": "code",
   "execution_count": null,
   "metadata": {},
   "outputs": [],
   "source": [
    "# Descarga de los datos de Thingsboard / Downloading data from Thingsboard\n",
    "\n",
    "tmp= TB(config_file='config.ini',device_name=nombre_dispositivo) \n",
    "encuesta = [\n",
    "    \"Temperatura\",\n",
    "    \"Clo\",\n",
    "    \"Met\",\n",
    "    \"Ubicacion\",\n",
    "    \"Sensacion\",\n",
    "    \"Aceptacion\",\n",
    "    \"BPMs\"\n",
    "]\n",
    "\n",
    "Dispositivo = pd.concat([tmp.get_df(key=sensor,start_datetime=fecha1,end_datetime=fecha2) for sensor in encuesta],axis=1)"
   ]
  },
  {
   "cell_type": "code",
   "execution_count": null,
   "metadata": {},
   "outputs": [],
   "source": [
    "# Lectura de los datos del formulario / Reading data from the form\n",
    "\n",
    "form = pd.read_excel(formulario)\n",
    "form.set_index('Nombre del dispositivo',inplace=True)"
   ]
  },
  {
   "cell_type": "code",
   "execution_count": null,
   "metadata": {},
   "outputs": [],
   "source": [
    "form.loc[nombre_dispositivo]  "
   ]
  },
  {
   "cell_type": "code",
   "execution_count": null,
   "metadata": {},
   "outputs": [],
   "source": [
    "fecha_nac = form.loc[nombre_dispositivo][\"Indique su fecha de nacimiento\"]\n",
    "hoy = pd.to_datetime('today')\n",
    "edad = hoy.year - fecha_nac.year - ((hoy.month, hoy.day) < (fecha_nac.month, fecha_nac.day))\n",
    "peso = form.loc[nombre_dispositivo][\"¿Cuál es su peso? [kg]\"]\n",
    "altura = form.loc[nombre_dispositivo][\"¿Cuál es su altura? [m]\"]\n",
    "sexo = form.loc[nombre_dispositivo][\"¿Cuál es su sexo?\"]\n",
    "frecuencia = form.loc[nombre_dispositivo][\"¿Con que frecuencia a la semana sueles estar en espacios con aire acondicionado?\"]"
   ]
  },
  {
   "cell_type": "code",
   "execution_count": null,
   "metadata": {},
   "outputs": [],
   "source": [
    "Dispositivo[\"age\"] = edad\n",
    "Dispositivo[\"weight\"] = peso\n",
    "Dispositivo[\"height\"] = altura\n",
    "Dispositivo[\"sex\"] = sexo\n",
    "Dispositivo[\"fr\"] = frecuencia"
   ]
  },
  {
   "cell_type": "code",
   "execution_count": null,
   "metadata": {},
   "outputs": [],
   "source": [
    "# Diccionarios para la presentación de la tabla / Dictionaries for the table presentation\n",
    "\n",
    "diccionario_aceptacion = {\n",
    "    0: \"No\",\n",
    "    1: \"Sí\"\n",
    "}\n",
    "\n",
    "diccionario_ubicacion = {\n",
    "    0: \"Aula 1\",\n",
    "    1: \"Aula 2\",\n",
    "    2: \"Aula 3\",\n",
    "    3: \"Aula 4\",\n",
    "    4: \"Aula 5\",\n",
    "    5: \"Aula 6\",\n",
    "    6: \"Aula 7\",\n",
    "    7: \"Aula 8\",\n",
    "    8: \"Aula 9\",\n",
    "    9: \"Aula 10\"\n",
    "}\n",
    "\n",
    "diccionario_sexo = {\n",
    "    \"Masculino\": \"M\",\n",
    "    \"Femenino\": \"F\"\n",
    "}\n",
    "\n",
    "diccionario_frecuencia = {\n",
    "    \"Todos los días\": 3,\n",
    "    \"3 a 5 días a la semana\": 2,\n",
    "    \"1 a 3 días a la semana\": 1,\n",
    "    \"Nunca\": 0\n",
    "}\n"
   ]
  },
  {
   "cell_type": "code",
   "execution_count": null,
   "metadata": {},
   "outputs": [],
   "source": [
    "Dispositivo['Ubicacion'] = Dispositivo['Ubicacion'].map(diccionario_ubicacion)\n",
    "Dispositivo['Aceptacion'] = Dispositivo['Aceptacion'].map(diccionario_aceptacion)\n",
    "Dispositivo['sex'] = Dispositivo['sex'].map(diccionario_sexo)\n",
    "Dispositivo['fr'] = Dispositivo['fr'].map(diccionario_frecuencia)"
   ]
  },
  {
   "cell_type": "code",
   "execution_count": null,
   "metadata": {},
   "outputs": [],
   "source": [
    "Dispositivo.index = Dispositivo.index.strftime('%Y-%m-%d %H:%M')"
   ]
  },
  {
   "cell_type": "code",
   "execution_count": null,
   "metadata": {},
   "outputs": [],
   "source": [
    "# Nuevos nombres de columnas para el formato de la tabla / New column names for the table formatting\n",
    "\n",
    "nuevos_nombres = [ 'T_w', 'CLO', 'MET', 'Location', 'TS', 'A', 'BPMs', 'Age', 'W', 'H', 'Sex', 'fr' ]\n",
    "Dispositivo.index.name = 'date'\n",
    "\n",
    "\n",
    "Dispositivo.columns = nuevos_nombres"
   ]
  },
  {
   "cell_type": "code",
   "execution_count": null,
   "metadata": {},
   "outputs": [],
   "source": [
    "# Visualización de la tabla / Table visualization\n",
    "\n",
    "Dispositivo"
   ]
  }
 ],
 "metadata": {
  "kernelspec": {
   "display_name": "Python 3 (ipykernel)",
   "language": "python",
   "name": "python3"
  },
  "language_info": {
   "codemirror_mode": {
    "name": "ipython",
    "version": 3
   },
   "file_extension": ".py",
   "mimetype": "text/x-python",
   "name": "python",
   "nbconvert_exporter": "python",
   "pygments_lexer": "ipython3",
   "version": "3.10.11"
  }
 },
 "nbformat": 4,
 "nbformat_minor": 4
}
